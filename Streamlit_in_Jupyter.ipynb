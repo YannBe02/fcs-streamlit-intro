{
  "cells": [
    {
      "cell_type": "markdown",
      "metadata": {
        "id": "vWmc_s2ezvU0"
      },
      "source": [
        "# Run streamlit app from a Jupyter Notebook\n"
      ]
    },
    {
      "cell_type": "code",
      "execution_count": 1,
      "metadata": {
        "colab": {
          "base_uri": "https://localhost:8080/"
        },
        "id": "RvlYkCQ9vFiy",
        "outputId": "c18a7c3f-d59c-4d5c-827e-0d6acdaeddf9"
      },
      "outputs": [
        {
          "name": "stdout",
          "output_type": "stream",
          "text": [
            "\u001b[2K     \u001b[90m━━━━━━━━━━━━━━━━━━━━━━━━━━━━━━━━━━━━━━━━\u001b[0m \u001b[32m7.6/7.6 MB\u001b[0m \u001b[31m46.5 MB/s\u001b[0m eta \u001b[36m0:00:00\u001b[0m\n",
            "\u001b[2K     \u001b[90m━━━━━━━━━━━━━━━━━━━━━━━━━━━━━━━━━━━━━━\u001b[0m \u001b[32m190.0/190.0 kB\u001b[0m \u001b[31m19.9 MB/s\u001b[0m eta \u001b[36m0:00:00\u001b[0m\n",
            "\u001b[2K     \u001b[90m━━━━━━━━━━━━━━━━━━━━━━━━━━━━━━━━━━━━━━━━\u001b[0m \u001b[32m4.8/4.8 MB\u001b[0m \u001b[31m94.7 MB/s\u001b[0m eta \u001b[36m0:00:00\u001b[0m\n",
            "\u001b[2K     \u001b[90m━━━━━━━━━━━━━━━━━━━━━━━━━━━━━━━━━━━━━━━━\u001b[0m \u001b[32m82.1/82.1 kB\u001b[0m \u001b[31m9.5 MB/s\u001b[0m eta \u001b[36m0:00:00\u001b[0m\n",
            "\u001b[2K     \u001b[90m━━━━━━━━━━━━━━━━━━━━━━━━━━━━━━━━━━━━━━━━\u001b[0m \u001b[32m62.7/62.7 kB\u001b[0m \u001b[31m7.3 MB/s\u001b[0m eta \u001b[36m0:00:00\u001b[0m\n",
            "\u001b[?25h"
          ]
        }
      ],
      "source": [
        "!pip install -q streamlit"
      ]
    },
    {
      "cell_type": "code",
      "execution_count": 4,
      "metadata": {},
      "outputs": [
        {
          "name": "stderr",
          "output_type": "stream",
          "text": [
            "DEPRECATION: Loading egg at c:\\python311\\lib\\site-packages\\skipthoughts-0.0.1-py3.11.egg is deprecated. pip 23.3 will enforce this behaviour change. A possible replacement is to use pip for package installation..\n",
            "DEPRECATION: Loading egg at c:\\python311\\lib\\site-packages\\skipthoughts-0.0.1-py3.11.egg is deprecated. pip 23.3 will enforce this behaviour change. A possible replacement is to use pip for package installation..\n",
            "DEPRECATION: Loading egg at c:\\python311\\lib\\site-packages\\skipthoughts-0.0.1-py3.11.egg is deprecated. pip 23.3 will enforce this behaviour change. A possible replacement is to use pip for package installation..\n"
          ]
        }
      ],
      "source": [
        "!pip install -q pandas\n",
        "!pip install -q numpy\n",
        "!pip install -q matplotlib"
      ]
    },
    {
      "cell_type": "markdown",
      "metadata": {
        "id": "waCfwniZOow8"
      },
      "source": [
        "## Create a streamlit app example\n"
      ]
    },
    {
      "cell_type": "code",
      "execution_count": 2,
      "metadata": {
        "colab": {
          "base_uri": "https://localhost:8080/"
        },
        "id": "meJ36PefNftd",
        "outputId": "7f2a31f5-9ed2-4aa0-8394-efbb54f4ff76"
      },
      "outputs": [
        {
          "name": "stdout",
          "output_type": "stream",
          "text": [
            "Overwriting app.py\n"
          ]
        }
      ],
      "source": [
        "%%writefile app.py\n",
        "# Required Libraries\n",
        "import streamlit as st\n",
        "import pandas as pd\n",
        "import numpy as np\n",
        "import matplotlib.pyplot as plt\n",
        "\n",
        "# Tab Title\n",
        "st.set_page_config(page_title=\"FCS Streamlit Tutorial\", page_icon=\":computer:\")\n",
        "\n",
        "# Title & Intro\n",
        "st.title(\"Hello, FCS!\")\n",
        "st.write(\"\"\"\n",
        "Welcome to the interactive Streamlit tutorial tailored for FCS bachelor students! \n",
        "Here's a introductory showcase of what you can achieve using Streamlit with very little code.\n",
        "\"\"\")\n",
        "\n",
        "# Text Input\n",
        "st.subheader(\"Text Input\")\n",
        "name = st.text_input(\"Enter your name\", placeholder=\"Your name here...\")\n",
        "if name != \"\":\n",
        "    st.write(f\"Hello, {name}! Welcome to FCS!\")\n",
        "\n",
        "# Buttons\n",
        "st.subheader(\"Buttons\")\n",
        "if st.button(\"About\"):\n",
        "    st.write(\"This is a Streamlit tutorial for FCS bachelor students!\")\n",
        "    st.write(\"\"\"\n",
        "             Streamlit is an open-source Python library designed to simplify the process of creating web applications \n",
        "             and interactive dashboards for data science and machine learning. With its intuitive framework, \n",
        "             developers and data professionals can transform scripts into shareable web applications in just a few lines\n",
        "             of code, without requiring any knowledge of web development. \n",
        "             At its core, Streamlit operates by rerunning the entire script from top to bottom each time \n",
        "             there's an interaction, ensuring that the app's state is always in sync with the user's inputs. \n",
        "             To use Streamlit, one simply needs to write a Python script, insert Streamlit-specific functions for \n",
        "             interactivity, and then run the script using the streamlit run command. \n",
        "             The result is a reactive application hosted locally in a web browser, which can then be easily \n",
        "             shared with others. Its seamless integration with data-centric libraries such as Pandas and Matplotlib, \n",
        "             along with its growing community and rich ecosystem, makes Streamlit a go-to choice for rapid application\n",
        "             development in the data domain.\n",
        "             \"\"\")\n",
        "else:\n",
        "    st.write(\"Click the button to learn more about this tutorial.\")\n",
        "\n",
        "# Radio Buttons\n",
        "st.subheader(\"Radio Buttons\")\n",
        "department = st.radio(\n",
        "    \"Select your department\",\n",
        "    (\"Finance\", \"Marketing\", \"IT\", \"Operations\")\n",
        ")\n",
        "st.write(f\"You've selected {department} as your department!\")\n",
        "\n",
        "# Date Input\n",
        "st.subheader(\"Date Input\")\n",
        "date = st.date_input(\"Select a date\")\n",
        "\n",
        "# Progress Bar\n",
        "st.subheader(\"Progress Bar\")\n",
        "\n",
        "# plot how much time of the year has already passed\n",
        "if date:\n",
        "    # get first day of the year of the selected date\n",
        "    day_one = date.replace(month=1, day=1)\n",
        "    # calculate percentage of year passed\n",
        "    year_passed = (date - day_one).days / 365\n",
        "    # show progress bar on screen\n",
        "    st.progress(year_passed)\n",
        "    st.write(f\"{year_passed*100:.2f}% of the year has passed at {date.strftime('%d/%m/%Y')}\")\n",
        "\n",
        "  \n",
        "# Interactive Plotting\n",
        "st.subheader(\"Interactive Plotting\")\n",
        "\n",
        "# Generate random sales data\n",
        "np.random.seed(23)  # for reproducibility\n",
        "n_days = 30\n",
        "sales_data = np.random.randint(1, 100, size=n_days)\n",
        "dates = pd.date_range(start=\"2023-01-01\", periods=n_days, freq=\"D\")\n",
        "\n",
        "\n",
        "# Convert to Streamlit plot\n",
        "st.subheader(\"Sales Plot\")\n",
        "st.line_chart(pd.Series(sales_data, index=dates))\n",
        "\n",
        "# Checkbox\n",
        "st.subheader(\"Interactive Checkbox\")\n",
        "if st.checkbox(\"Show Top 5 Sales Days\"):\n",
        "    top_5_sales = pd.Series(sales_data, index=dates).nlargest(5)\n",
        "    st.write(top_5_sales)\n",
        "\n",
        "# Selectbox\n",
        "st.subheader(\"Selectbox: Favourite Data Analytics Tools\")\n",
        "tools = [\"Python\", \"Excel\", \"Tableau\", \"Power BI\", \"SAP\", \"R\", \"SQL\"]\n",
        "fav_tool = st.selectbox(\"Which is your favorite data anaylitcs tool?\", tools)\n",
        "\n",
        "# Do something with the selected tool\n",
        "if fav_tool == \"Python\":\n",
        "    st.write(\"Great choice! Python is a powerful programming language.\")\n",
        "elif fav_tool == \"R\":\n",
        "    st.write(\"R is a great tool for data analysis.\")\n",
        "else:\n",
        "    st.write(\"That's a nice tool!\")\n",
        "\n",
        "# Multiselect\n",
        "st.subheader(\"Multiselect: Modules of Interest\")\n",
        "modules = [\n",
        "    \"Investment Analysis\",\n",
        "    \"Digital Marketing\",\n",
        "    \"Talent Management\",\n",
        "    \"Supply Chain Optimization\",\n",
        "    \"Business Ethics\",\n",
        "]\n",
        "selected_modules = st.multiselect(\"Select the modules you're interested in:\", modules)\n",
        "for module in selected_modules:\n",
        "    st.write(f\"📘 {module}\")\n",
        "\n",
        "# Slider\n",
        "st.subheader(\"Slider\")\n",
        "gpa = st.slider(\"Select your GPA\", min_value=1.0, max_value=6.0, step=0.1, value=3.5)\n",
        "st.write(f\"Your GPA is: {gpa}\")\n",
        "\n",
        "# Show Chart, gauss distribution from 1-6, and show the selected GPA\n",
        "st.subheader(\"GPA Distribution\")\n",
        "x = np.linspace(1, 6, 100)\n",
        "# Adjusted the gaussian distribution parameters for a better fit between 1-6\n",
        "y = 1 / (1 * np.sqrt(2 * np.pi)) * np.exp(-0.5 * ((x - 3.5) / 1) ** 2)\n",
        "\n",
        "# Create dataframe for area chart\n",
        "df = pd.DataFrame({\"GPA\": x, \"Density\": y})\n",
        "\n",
        "# Plotting a vertical line for the selected GPA on the same graph requires \n",
        "# a bit more control, such as with Matplotlib. So, let's do that.\n",
        "fig, ax = plt.subplots(figsize=(8, 5))\n",
        "ax.fill_between(df[\"GPA\"], df[\"Density\"], color=\"lightblue\", label=\"GPA Distribution\")\n",
        "ax.axvline(gpa, color=\"red\", linestyle=\"--\", label=f\"Your GPA: {gpa}\")\n",
        "ax.legend(loc=\"upper left\")\n",
        "ax.set_xlabel(\"GPA\")\n",
        "ax.set_ylabel(\"Density\")\n",
        "st.pyplot(fig)\n",
        "\n",
        "# Numerical approximation to the error function\n",
        "def erf_approx(x):\n",
        "    # Constants\n",
        "    a1 =  0.254829592\n",
        "    a2 = -0.284496736\n",
        "    a3 =  1.421413741\n",
        "    a4 = -1.453152027\n",
        "    a5 =  1.061405429\n",
        "    p  =  0.3275911\n",
        "\n",
        "    sign = 1 if x >= 0 else -1\n",
        "    x = abs(x)\n",
        "\n",
        "    t = 1.0 / (1.0 + p * x)\n",
        "    y = (((((a5 * t + a4) * t) + a3) * t + a2) * t + a1) * t\n",
        "\n",
        "    return sign * (1 - y * np.exp(-x * x))\n",
        "\n",
        "# Compute the percentile using the CDF of the normal distribution\n",
        "mu = 3.5  # mean\n",
        "sigma = 1  # standard deviation\n",
        "percentile = 0.5 * (1 + erf_approx((gpa - mu) / (sigma * np.sqrt(2))))\n",
        "\n",
        "st.write(f\"With a GPA of {gpa}, you're in the {percentile*100:.2f} percentile.\")\n",
        "\n",
        "st.header(\"Setting Up Streamlit\")\n",
        "# Markdown\n",
        "st.markdown(\"\"\"\n",
        "            ### Setting Up Streamlit with Anaconda Environments\n",
        "\n",
        "            Anaconda is a powerful platform for Python and R languages, simplifying package management and deployment. By using Anaconda, you can create isolated environments to run different projects, ensuring that dependencies do not interfere with each other. Here's how to set up Streamlit within an Anaconda environment:\n",
        "\n",
        "            ### 1. **Install Anaconda**:\n",
        "            If you haven't installed Anaconda yet, download and install it from the [official Anaconda website](https://www.anaconda.com/products/distribution).\n",
        "\n",
        "            ### 2. **Create a New Environment**:\n",
        "            After installation, open the Anaconda Navigator or the terminal (on Linux/Mac) or command prompt (on Windows) and create a new environment using the following command:\n",
        "            ```bash\n",
        "            conda create --name streamlit_env python=3.8\n",
        "            ```\n",
        "            Replace `streamlit_env` with your desired environment name and `3.8` with your preferred Python version, if different.\n",
        "\n",
        "            ### 3. **Activate the Environment**:\n",
        "            To use the new environment, you need to activate it:\n",
        "            ```bash\n",
        "            conda activate streamlit_env\n",
        "            ```\n",
        "\n",
        "            ### 4. **Install Streamlit**:\n",
        "            With the environment activated, install Streamlit using pip:\n",
        "            ```bash\n",
        "            pip install streamlit\n",
        "            ```\n",
        "\n",
        "            ### 5. **Running Streamlit Apps**:\n",
        "            Now, you can run any Streamlit app within this environment. For example, to run the default Streamlit app, use:\n",
        "            ```bash\n",
        "            streamlit hello\n",
        "            ```\n",
        "\n",
        "            ### 6. **Deactivate the Environment**:\n",
        "            Once you're done working with Streamlit, you can deactivate the Anaconda environment:\n",
        "            ```bash\n",
        "            conda deactivate\n",
        "            ```\n",
        "\n",
        "            By following this setup, you ensure that Streamlit and its dependencies are contained within a specific Anaconda environment, preventing any potential conflicts with other Python projects or libraries.\n",
        "                \n",
        "    \"\"\")\n",
        "\n",
        "# Working with external packages\n",
        "st.markdown(\"\"\"\n",
        "            ### Managing and Installing Python Libraries in Streamlit\n",
        "\n",
        "            In the world of Python and Streamlit, libraries are collections of functions and methods that allow you to perform actions without writing your own code. Sometimes, to run a Streamlit app, you'll need to install specific libraries. Here's how you can do that:\n",
        "\n",
        "            ### 1. **Installing Libraries**:\n",
        "            You can install required libraries using `pip`, the package installer for Python. Simply open your terminal or command prompt and use the following command:\n",
        "            ```bash\n",
        "            pip install library-name\n",
        "            ```\n",
        "            For instance, to install Streamlit, you'd use:\n",
        "            ```bash\n",
        "            pip install streamlit\n",
        "            ```\n",
        "\n",
        "            ### 2. **Saving Library Versions for Sharing**:\n",
        "            If you're developing a Streamlit app that you intend to share with others, it's crucial to ensure that everyone uses the same versions of libraries to avoid compatibility issues. Here's how to save and share your library versions:\n",
        "\n",
        "            - First, save the versions of all libraries you have installed in a file called `requirements.txt` using this command:\n",
        "            ```bash\n",
        "            pip freeze > requirements.txt\n",
        "            ```\n",
        "            - When someone else needs to run your Streamlit app, they can install the exact versions of the required libraries using:\n",
        "            ```bash\n",
        "            pip install -r requirements.txt\n",
        "            ```\n",
        "\n",
        "            This approach ensures that everyone has the necessary libraries at the correct versions to run your Streamlit app seamlessly!\n",
        "\n",
        "            ### 3. **Running this Streamlit App**:\n",
        "            First, clone the [github repository](https://github.com/hawk-li/fcs-streamlit-intro) or download and extract the zip file containing this Streamlit app. Then, navigate to the directory containing this Streamlit app using the terminal or command prompt.\n",
        "            Make sure you have created and activated a new Anaconda environment as described in the previous section.\n",
        "            ```bash\t\n",
        "            cd path/to/streamlit-tutorial\n",
        "            ```\n",
        "            Second, install the required libraries using the `requirements.txt` file:\n",
        "            ```bash\n",
        "            pip install -r requirements.txt\n",
        "            ```\n",
        "            Then, run this Streamlit app using:\n",
        "            ```bash\n",
        "            streamlit run app.py\n",
        "            ```\n",
        "            \"\"\")\n",
        "\n",
        "\n",
        "# Documentation & Guidance\n",
        "st.subheader(\"Documentation & Guidance\")\n",
        "st.write(\"\"\"\n",
        "To dive deeper into Streamlit and its capabilities, students are encouraged to:\n",
        "\n",
        "1. Visit the [official Streamlit documentation](https://docs.streamlit.io/)\n",
        "2. Explore the [Streamlit gallery for inspiration](https://streamlit.io/gallery)\n",
        "3. Check out the [Streamlit community](https://discuss.streamlit.io/) for help\n",
        "4. Check out the [Streamlit cheatsheet](https://cheat-sheet.streamlit.app/) for a quick overview of Streamlit's features\n",
        "5. Check out the [Streamlit tutorial](https://docs.streamlit.io/en/stable/tutorial/index.html) for a more detailed introduction\n",
        "6. Check out the [Streamlit API reference](https://docs.streamlit.io/en/stable/api.html) for a detailed overview of Streamlit's API\n",
        "7. Check out the [Streamlit extras](https://extras.streamlit.app/) for additional features\n",
        "\n",
        "Happy Learning!\n",
        "\"\"\")\n",
        "\n",
        "# Footer\n",
        "st.write(\"---\")\n",
        "st.write(\"FCS Streamlit Tutorial • Designed with ❤️ for Bachelor Students in Business Administration\")\n"
      ]
    },
    {
      "cell_type": "markdown",
      "metadata": {
        "id": "kccYE2lkN20y"
      },
      "source": [
        "## Running the app via jupyter notebook\n",
        "\n",
        "### The steps in this section only apply if you run the app locally from a Jupyter Notebook. If you run the app via colab or from the command line, you can skip this section."
      ]
    },
    {
      "cell_type": "markdown",
      "metadata": {},
      "source": [
        "To run the app in the background and access it directly in the notebook, run the code zell below"
      ]
    },
    {
      "cell_type": "code",
      "execution_count": 3,
      "metadata": {
        "colab": {
          "base_uri": "https://localhost:8080/"
        },
        "id": "Zv912rRAN0fs",
        "outputId": "8d24fb67-f335-462b-ac46-61977af63e11"
      },
      "outputs": [
        {
          "data": {
            "text/html": [
              "\n",
              "        <iframe\n",
              "            width=\"1200\"\n",
              "            height=\"800\"\n",
              "            src=\"http://localhost:8501\"\n",
              "            frameborder=\"0\"\n",
              "            allowfullscreen\n",
              "            \n",
              "        ></iframe>\n",
              "        "
            ],
            "text/plain": [
              "<IPython.lib.display.IFrame at 0x191aa2f7190>"
            ]
          },
          "execution_count": 3,
          "metadata": {},
          "output_type": "execute_result"
        }
      ],
      "source": [
        "import subprocess\n",
        "from IPython.display import IFrame\n",
        "\n",
        "process = subprocess.Popen(['streamlit', 'run', 'app.py', '--server.headless true'], stdout=subprocess.PIPE, stderr=subprocess.PIPE)\n",
        "url = 'http://localhost:8501' # visit this URL to access your Streamlit app in the browser\n",
        "IFrame(src=url, width=1200, height=800)"
      ]
    },
    {
      "cell_type": "markdown",
      "metadata": {},
      "source": [
        "To access the app via browser instead, run the code cell below"
      ]
    },
    {
      "cell_type": "code",
      "execution_count": null,
      "metadata": {},
      "outputs": [],
      "source": [
        "!streamlit run app.py"
      ]
    },
    {
      "cell_type": "markdown",
      "metadata": {},
      "source": [
        "## Colab\n",
        "\n",
        "### Steps below are only for running streamlit in colab"
      ]
    },
    {
      "cell_type": "code",
      "execution_count": null,
      "metadata": {},
      "outputs": [],
      "source": [
        "!npm install localtunnel"
      ]
    },
    {
      "cell_type": "markdown",
      "metadata": {},
      "source": [
        "The command below will run streamlit in the background and expose the app through a public URL. The output will look like this:\n",
        "\n",
        "```bash\n",
        "npx: installed 22 in 1.388s\n",
        "\n",
        "  You can now view your Streamlit app in your browser.\n",
        "\n",
        "  Network URL: http://172.28.0.12:8501\n",
        "  External URL: http://35.234.174.59:8501\n",
        "\n",
        "your url is: https://chatty-candles-kneel.loca.lt\n",
        "```\n",
        "\n",
        "You can then open the `url` (in this example `https://chatty-candles-kneel.loca.lt`) in a new tab and see your app running. The site may ask you to provide the public ip address of the host before you can access the app, which you can find in the output under `External URL`. Copy the IP address only (in this example `35.234.174.59`) and paste it into the input field on the site."
      ]
    },
    {
      "cell_type": "code",
      "execution_count": null,
      "metadata": {},
      "outputs": [],
      "source": [
        "!streamlit run app.py & npx localtunnel --port 8501"
      ]
    },
    {
      "cell_type": "markdown",
      "metadata": {},
      "source": [
        "## Running the app via command line\n",
        "\n",
        "### The steps in this section only apply if you run the app locally from the command line. If you run the app via colab or from a Jupyter Notebook, you can skip this section.\n",
        "\n",
        "#### Virtual Environment\n",
        "\n",
        "First create and activate a virtual environment. To create a virtual environment, run the following command:\n",
        "\n",
        "Anaconda:\n",
        "\n",
        "```bash\n",
        "conda create -n myenv python=3.7\n",
        "```\n",
        "\n",
        "venv:\n",
        "\n",
        "```bash\n",
        "python3 -m venv myenv\n",
        "```\n",
        "\n",
        "Then activate the environment:\n",
        "\n",
        "Anaconda:\n",
        "\n",
        "```bash\n",
        "conda activate myenv\n",
        "```\n",
        "\n",
        "venv:\n",
        "\n",
        "```bash\n",
        "source myenv/bin/activate\n",
        "# or on windows\n",
        "source myenv/Scripts/activate\n",
        "```\n",
        "\n",
        "#### Run via Command Line\n",
        "\n",
        "To run the app via command line navigate to the directory where the app is located:\n",
        "\n",
        "Linux/MacOS:\n",
        "\n",
        "```bash\n",
        "cd /path/to/your/app\n",
        "```\n",
        "\n",
        "Windows:\n",
        "\n",
        "```bash\n",
        "cd C:\\Users\\yourname\\path\\to\\your\\app\n",
        "```\n",
        "\n",
        "Then run the following command:\n",
        "\n",
        "```bash\n",
        "pip install -r requirements.txt\n",
        "# or on windows\n",
        "pip3 install -r requirements.txt\n",
        "```\n",
        "\n",
        "This will install all the required dependencies. Then run the following command to start the app:\n",
        "\n",
        "```bash\n",
        "streamlit run app.py\n",
        "```"
      ]
    }
  ],
  "metadata": {
    "colab": {
      "provenance": []
    },
    "kernelspec": {
      "display_name": "Python 3",
      "name": "python3"
    },
    "language_info": {
      "codemirror_mode": {
        "name": "ipython",
        "version": 3
      },
      "file_extension": ".py",
      "mimetype": "text/x-python",
      "name": "python",
      "nbconvert_exporter": "python",
      "pygments_lexer": "ipython3",
      "version": "3.11.6"
    }
  },
  "nbformat": 4,
  "nbformat_minor": 0
}
